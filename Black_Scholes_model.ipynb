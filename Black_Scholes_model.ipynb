{
 "cells": [
  {
   "cell_type": "code",
   "execution_count": null,
   "id": "80caaca9-fed7-45a0-9bc4-c7ec664c0e65",
   "metadata": {},
   "outputs": [],
   "source": [
    "# Importing necessary Python libraries and modules\n",
    "\n",
    "from openbb_terminal.sdk import openbb\n",
    "from math import log, sqrt, exp\n",
    "from scipy.stats import norm"
   ]
  },
  {
   "cell_type": "code",
   "execution_count": null,
   "id": "5cf65f3d-6c4d-4b48-a061-22d893884bfc",
   "metadata": {},
   "outputs": [],
   "source": [
    "# Creating Black and Scholes Variables\n",
    "\n",
    "S = 425.90\n",
    "X = 430\n",
    "T = 23/252\n",
    "r = 0.04\n",
    "sigma = 79/100\n",
    "d1 = (log(S/X)+(r+sigma**2/2.)*T)/(sigma*sqrt(T))\n",
    "d2 = (d1-sigma*sqrt(T))"
   ]
  },
  {
   "cell_type": "code",
   "execution_count": null,
   "id": "91c83e87-68be-484a-9b97-188ec7534d22",
   "metadata": {},
   "outputs": [],
   "source": [
    "# Calculating call and put option prices\n",
    "\n",
    "Call_price = S*norm.cdf(d1)-X*exp(-r*T)*norm.cdf(d2)\n",
    "Put_price = X*exp(-r*T)*norm.cdf(-d2)-(S*norm.cdf(-d1))\n",
    "print(('Call: {}, Put: {}'.format(Call_price, Put_price)))"
   ]
  },
  {
   "cell_type": "code",
   "execution_count": null,
   "id": "c53c3d48-a2b1-4333-997e-4998175a1f2a",
   "metadata": {},
   "outputs": [],
   "source": [
    "# Validating results of Black and Scholes model with real world financial data\n",
    "\n",
    "df=openbb.stocks.options.chains(\"NVDA\", expiration=\"2023-10-20\")\n",
    "df=df.loc[df['strike']==430]\n",
    "print(df)"
   ]
  }
 ],
 "metadata": {
  "kernelspec": {
   "display_name": "Python 3 (ipykernel)",
   "language": "python",
   "name": "python3"
  },
  "language_info": {
   "codemirror_mode": {
    "name": "ipython",
    "version": 3
   },
   "file_extension": ".py",
   "mimetype": "text/x-python",
   "name": "python",
   "nbconvert_exporter": "python",
   "pygments_lexer": "ipython3",
   "version": "3.11.3"
  }
 },
 "nbformat": 4,
 "nbformat_minor": 5
}
