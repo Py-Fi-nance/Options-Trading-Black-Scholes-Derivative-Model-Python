{
 "cells": [
  {
   "cell_type": "code",
   "execution_count": null,
   "id": "80caaca9-fed7-45a0-9bc4-c7ec664c0e65",
   "metadata": {
    "scrolled": true
   },
   "outputs": [],
   "source": [
    "# Importing necessary Python libraries and modules\n",
    "\n",
    "from openbb_terminal.sdk import openbb\n",
    "from math import log, sqrt, exp\n",
    "from scipy.stats import norm"
   ]
  },
  {
   "cell_type": "code",
   "execution_count": 3,
   "id": "5cf65f3d-6c4d-4b48-a061-22d893884bfc",
   "metadata": {},
   "outputs": [],
   "source": [
    "# Creating Black and Scholes Variables\n",
    "\n",
    "S = 425.90\n",
    "X = 430\n",
    "T = 23/252\n",
    "r = 0.04\n",
    "sigma = 79/100\n",
    "d1 = (log(S/X)+(r+sigma**2/2.)*T)/(sigma*sqrt(T))\n",
    "d2 = (d1-sigma*sqrt(T))"
   ]
  },
  {
   "cell_type": "code",
   "execution_count": 4,
   "id": "91c83e87-68be-484a-9b97-188ec7534d22",
   "metadata": {},
   "outputs": [
    {
     "name": "stdout",
     "output_type": "stream",
     "text": [
      "Call: 39.321859653086705, Put: 41.85488048247848\n"
     ]
    }
   ],
   "source": [
    "# Calculating call and put option prices\n",
    "\n",
    "Call_price = S*norm.cdf(d1)-X*exp(-r*T)*norm.cdf(d2)\n",
    "Put_price = X*exp(-r*T)*norm.cdf(-d2)-(S*norm.cdf(-d1))\n",
    "print(('Call: {}, Put: {}'.format(Call_price, Put_price)))"
   ]
  },
  {
   "cell_type": "code",
   "execution_count": null,
   "id": "e58e02e0",
   "metadata": {},
   "outputs": [],
   "source": []
  },
  {
   "cell_type": "code",
   "execution_count": 5,
   "id": "c53c3d48-a2b1-4333-997e-4998175a1f2a",
   "metadata": {},
   "outputs": [
    {
     "name": "stdout",
     "output_type": "stream",
     "text": [
      "     optionType  expiration  strike  lastPrice    bid    ask  openInterest  \\\n",
      "1908       call  2023-10-20   430.0      30.43  30.25  30.90          1749   \n",
      "1909        put  2023-10-20   430.0      47.00  47.45  48.45          2351   \n",
      "\n",
      "      volume  \n",
      "1908     246  \n",
      "1909     347  \n"
     ]
    }
   ],
   "source": [
    "# Validating results of Black and Scholes model with real world financial data\n",
    "\n",
    "df=openbb.stocks.options.chains(\"NVDA\", expiration=\"2023-10-20\")\n",
    "df=df.loc[df['strike']==430]\n",
    "print(df)"
   ]
  }
 ],
 "metadata": {
  "kernelspec": {
   "display_name": "Python 3 (ipykernel)",
   "language": "python",
   "name": "python3"
  },
  "language_info": {
   "codemirror_mode": {
    "name": "ipython",
    "version": 3
   },
   "file_extension": ".py",
   "mimetype": "text/x-python",
   "name": "python",
   "nbconvert_exporter": "python",
   "pygments_lexer": "ipython3",
   "version": "3.9.13"
  }
 },
 "nbformat": 4,
 "nbformat_minor": 5
}
